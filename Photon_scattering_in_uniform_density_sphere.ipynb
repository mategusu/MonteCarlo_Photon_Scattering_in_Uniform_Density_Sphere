{
 "cells": [
  {
   "cell_type": "markdown",
   "id": "6415005f-dddf-48ea-ad79-61432bf84962",
   "metadata": {},
   "source": [
    "## Task:"
   ]
  },
  {
   "cell_type": "markdown",
   "id": "8f43d630-2cd0-44a3-ad03-f8a5307338f7",
   "metadata": {},
   "source": [
    "#### Write a Monte Carlo radiation transfer code to simulate emission from an isotropic point source at the origin of a uniform density sphere. Assume the Monte Carlo photon packets are scattered isotropically on their random walks through the sphere. For the case where the scattering albedo is unity, compute as a function of the sphere’s radial optical depth, $\\tau_r$, the average number of scatterings per Monte Carlo packet, $<N_{scatt}>$. Plot $<N_{scatt}>$ versus $t_r$ and compare this with the analytic approximation $<N_{scatt}> \\approx \\tau_r + \\tau_r^2/2$, derived in the lecture notes. Investigate radial optical depths from 0.1 up to 200. To ensure that you have a working MCRT code, please send me a figure comparing your MCRT results with the analytic expression."
   ]
  },
  {
   "cell_type": "markdown",
   "id": "8c01d641-68ce-4a79-9e11-49a63e602c59",
   "metadata": {},
   "source": [
    "## Code"
   ]
  },
  {
   "cell_type": "code",
   "execution_count": null,
   "id": "1946bba4-d4c3-4a65-be74-2af8e86de42d",
   "metadata": {},
   "outputs": [],
   "source": [
    "program uni_sphere\n",
    "    implicit none\n",
    "    real :: x,y,z,nx,ny,nz,tau,tau_r_min,tau_r_max,tau_r,r,rmax,E,L,av_scat,num_tau_step\n",
    "    integer :: npackets,nscat,num_tau_r,i,j,k\n",
    "    real, allocatable, dimension(:) :: taus(:),av_scatters(:)\n",
    "    npackets = 1000\n",
    "    tau_r_min = 0.1\n",
    "    tau_r_max = 200\n",
    "    num_tau_r = 200\n",
    "    num_tau_step = (REAL(tau_r_max) - REAL(tau_r_min))/(num_tau_r-1)  !100 elements\n",
    "    allocate(taus(num_tau_r))\n",
    "    allocate(av_scatters(num_tau_r))\n",
    "    do k = 1,num_tau_r\n",
    "        taus(k) = 0.1 + num_tau_step*(k-1)\n",
    "    end do\n",
    "    rmax = 1\n",
    "    open(unit=1,file='testl3b.txt')\n",
    "    do j = 1,num_tau_r\n",
    "        tau_r = taus(j)\n",
    "        nscat = 0\n",
    "        do i = 1, npackets\n",
    "            call emit_packet(x,y,z,nx,ny,nz)\n",
    "            r = x*x + y*y + z*z\n",
    "            do while (r <= rmax) ! Packet is in sphere. Do we even need r>=0?\n",
    "                call random_number(E)\n",
    "                tau = -log(E)\n",
    "                L = tau * rmax / tau_r ! Distance travelled\n",
    "                ! update packet position, x,y,z\n",
    "                x = x + L * nx\n",
    "                y = y + L * ny\n",
    "                z = z + L * nz\n",
    "                r = x*x + y*y + z*z\n",
    "                if (r >= rmax) EXIT\n",
    "                nscat = nscat + 1\n",
    "                call scatter(nx,ny,nz)\n",
    "            end do\n",
    "        end do\n",
    "        av_scat = nscat/npackets\n",
    "        av_scatters(j) = av_scat\n",
    "        write(1,*) tau_r,av_scatters(j)\n",
    "    end do\n",
    "    close(1)\n",
    "end program uni_sphere\n",
    "\n",
    "subroutine emit_packet(x,y,z,nx,ny,nz)\n",
    "    implicit none\n",
    "    real, parameter :: pi = 3.14159\n",
    "    real :: E1,E2,theta,phi\n",
    "    real, intent(out) :: x,y,z,nx,ny,nz\n",
    "    x=0\n",
    "    y=0\n",
    "    z=0\n",
    "    call random_number(E1)\n",
    "    call random_number(E2)\n",
    "    theta = ACOS(2*E1 - 1)\n",
    "    phi = 2*pi*E2\n",
    "    nx = SIN(theta)*COS(phi)\n",
    "    ny = SIN(theta)*SIN(phi)\n",
    "    nz = COS(theta)\n",
    "end subroutine emit_packet\n",
    "\n",
    "subroutine scatter(nxs,nys,nzs)\n",
    "    implicit none\n",
    "    real, parameter :: pi = 3.14159\n",
    "    real :: E1,E2,theta,phi\n",
    "    real, intent(out) :: nxs,nys,nzs\n",
    "    call random_number(E1)\n",
    "    call random_number(E2)\n",
    "    theta = ACOS(2*E1 - 1)\n",
    "    phi = 2*pi*E2\n",
    "    nxs = SIN(theta)*COS(phi)\n",
    "    nys = SIN(theta)*SIN(phi)\n",
    "    nzs = COS(theta)\n",
    "end subroutine scatter"
   ]
  }
 ],
 "metadata": {
  "kernelspec": {
   "display_name": "",
   "name": ""
  },
  "language_info": {
   "name": ""
  }
 },
 "nbformat": 4,
 "nbformat_minor": 5
}
